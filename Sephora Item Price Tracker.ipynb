{
 "cells": [
  {
   "cell_type": "code",
   "execution_count": null,
   "id": "140b0a76-43a3-4dc7-8b0d-db18e9739e2b",
   "metadata": {
    "tags": []
   },
   "outputs": [],
   "source": [
    "# libraryies Import\n",
    "\n",
    "from bs4 import BeautifulSoup \n",
    "import requests\n",
    "import time\n",
    "import datetime\n",
    "\n",
    "\n",
    "# sending emails to myself \n",
    "import smtplib"
   ]
  },
  {
   "cell_type": "code",
   "execution_count": null,
   "id": "01660c62-0dc4-495d-9aee-700bf574663b",
   "metadata": {},
   "outputs": [],
   "source": [
    "# connect to website\n",
    "\n",
    "# URL linking to item on sephora\n",
    "URL = 'https://www.sephora.com/ca/en/product/sol-de-janeiro-mini-beija-flor-body-hair-mist-P482745?skuId=2569747&icid2=bestsellersfragrance_ca_skugrid_ufe:p482745:product'\n",
    "\n",
    "headers = { \"User-Agent\": \"Mozilla/5.0 (Macintosh; Intel Mac OS X 10_15_7) AppleWebKit/537.36 (KHTML, like Gecko) Chrome/125.0.0.0 Safari/537.36\"}\n",
    "\n",
    "page = requests.get(URL, headers=headers)\n",
    "\n",
    "soup1 = BeautifulSoup(page.content, \"html.parser\")\n",
    "\n",
    "# making retrevied data more organzied\n",
    "soup2 = BeautifulSoup(soup1.prettify(), \"html.parser\")\n",
    "\n",
    "# identifying product name and price based on respective ID's\n",
    "product_name_element = soup2.find('span', {'data-at': 'product_name', 'class': 'css-1pgnl76 eanm77i0'})\n",
    "\n",
    "product_price_element = soup2.find('b', class_ = 'css-0')\n",
    "\n",
    "#getting product information\n",
    "product_name = product_name_element.get_text().strip()\n",
    "product_price = product_price_element.get_text().strip()[1:]\n",
    "\n",
    "\n"
   ]
  },
  {
   "cell_type": "code",
   "execution_count": null,
   "id": "9d21115b-c0c6-4b5c-9408-159013e84bc8",
   "metadata": {
    "tags": []
   },
   "outputs": [],
   "source": [
    "import datetime\n",
    "\n",
    "#retrieving toadys date\n",
    "today = datetime.date.today()\n",
    "\n",
    "print(today)"
   ]
  },
  {
   "cell_type": "code",
   "execution_count": null,
   "id": "aa7e7974-09c9-40e2-b944-c293ad815dc6",
   "metadata": {},
   "outputs": [],
   "source": [
    "# import csv\n",
    "\n",
    "# only run once \n",
    "\n",
    "#creating column heders\n",
    "header = ['Title', 'Price','Date']\n",
    "\n",
    "# retrieving product name, price, and date\n",
    "data = [product_name, product_price,today]\n",
    "\n",
    "#opening csv and writing data into file \n",
    "with open('Sephora Webscraper dataset.csv', 'w', newline='', encoding = 'UTF8') as f:\n",
    "    writer = csv.writer(f)\n",
    "    writer.writerow(header)\n",
    "    writer.writerow(data)\n",
    "\n",
    "\n",
    "\n",
    "\n",
    "\n"
   ]
  },
  {
   "cell_type": "code",
   "execution_count": null,
   "id": "d89f97ba-fa53-4b82-8102-4b5bda8a978e",
   "metadata": {
    "tags": []
   },
   "outputs": [],
   "source": [
    "#import pandas as pd \n",
    "\n",
    "df = pd.read_csv('/Users/rodneysibanda/Sephora Webscraper dataset.csv')\n",
    "#print(df)"
   ]
  },
  {
   "cell_type": "code",
   "execution_count": null,
   "id": "37b66ade-086e-4c81-83ad-5cfb50319625",
   "metadata": {
    "tags": []
   },
   "outputs": [],
   "source": [
    "# Now we must append the data to the csv\n",
    "\n",
    "with open('Sephora Webscraper dataset.csv', 'a+', newline='', encoding = 'UTF8') as f:\n",
    "    writer = csv.writer(f)\n",
    "    writer.writerow(data)"
   ]
  },
  {
   "cell_type": "code",
   "execution_count": null,
   "id": "69af8a9d-72ea-4367-8a39-388e9ec76bd0",
   "metadata": {
    "tags": []
   },
   "outputs": [],
   "source": [
    "def price_check():\n",
    "    URL = 'https://www.sephora.com/ca/en/product/sol-de-janeiro-mini-beija-flor-body-hair-mist-P482745?skuId=2569747&icid2=bestsellersfragrance_ca_skugrid_ufe:p482745:product'\n",
    "\n",
    "    headers = { \"User-Agent\": \"Mozilla/5.0 (Macintosh; Intel Mac OS X 10_15_7) AppleWebKit/537.36 (KHTML, like Gecko) Chrome/125.0.0.0 Safari/537.36\"}\n",
    "\n",
    "    page = requests.get(URL, headers=headers)\n",
    "\n",
    "    soup1 = BeautifulSoup(page.content, \"html.parser\")\n",
    "   \n",
    "    soup2 = BeautifulSoup(soup1.prettify(), \"html.parser\")\n",
    "\n",
    "    product_name_element = soup2.find('span', {'data-at': 'product_name', 'class': 'css-1pgnl76 eanm77i0'})\n",
    "\n",
    "    product_price_element = soup2.find('b', class_ = 'css-0')\n",
    "\n",
    "    product_name = product_name_element.get_text().strip()\n",
    "    product_price = product_price_element.get_text().strip()[1:]\n",
    "    \n",
    "    import datetime\n",
    "\n",
    "    today = datetime.date.today()\n",
    "    \n",
    "    import csv\n",
    "\n",
    "    header = ['Title', 'Price','Date']\n",
    "\n",
    "    data = [product_name, product_price,today]\n",
    "\n",
    "    with open('Sephora Webscraper dataset.csv', 'a+', newline='', encoding = 'UTF8') as f:\n",
    "        writer = csv.writer(f)\n",
    "        writer.writerow(data)\n",
    "    \n",
    "    \n",
    "    "
   ]
  },
  {
   "cell_type": "code",
   "execution_count": null,
   "id": "c9cb8082-deef-474b-896a-b6a6b94540ab",
   "metadata": {
    "tags": []
   },
   "outputs": [],
   "source": [
    "\n",
    "while(True):\n",
    "    price_check()\n",
    "    time.sleep(86400)\n",
    "    "
   ]
  },
  {
   "cell_type": "code",
   "execution_count": null,
   "id": "b0502400-a06a-43c9-9c9a-39b778cb60a8",
   "metadata": {
    "tags": []
   },
   "outputs": [],
   "source": [
    "import pandas as pd \n",
    "\n",
    "df = pd.read_csv('/Users/rodneysibanda/Sephora Webscraper dataset.csv')\n",
    "print(df)"
   ]
  },
  {
   "cell_type": "code",
   "execution_count": null,
   "id": "870884df-1c84-4ddf-9023-b6c4f4065529",
   "metadata": {},
   "outputs": [],
   "source": []
  },
  {
   "cell_type": "code",
   "execution_count": null,
   "id": "511688e3-5d44-4874-ae40-0c1fe87f6286",
   "metadata": {},
   "outputs": [],
   "source": []
  }
 ],
 "metadata": {
  "kernelspec": {
   "display_name": "Python 3 (ipykernel)",
   "language": "python",
   "name": "python3"
  },
  "language_info": {
   "codemirror_mode": {
    "name": "ipython",
    "version": 3
   },
   "file_extension": ".py",
   "mimetype": "text/x-python",
   "name": "python",
   "nbconvert_exporter": "python",
   "pygments_lexer": "ipython3",
   "version": "3.12.4"
  }
 },
 "nbformat": 4,
 "nbformat_minor": 5
}
